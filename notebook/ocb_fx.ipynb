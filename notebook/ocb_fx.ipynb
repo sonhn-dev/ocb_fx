{
  "nbformat": 4,
  "nbformat_minor": 0,
  "metadata": {
    "colab": {
      "name": "Untitled0.ipynb",
      "provenance": [],
      "authorship_tag": "ABX9TyNCbXiCDkSV3Yuj8HOQG7Bn",
      "include_colab_link": true
    },
    "kernelspec": {
      "name": "python3",
      "display_name": "Python 3"
    },
    "language_info": {
      "name": "python"
    }
  },
  "cells": [
    {
      "cell_type": "markdown",
      "metadata": {
        "id": "view-in-github",
        "colab_type": "text"
      },
      "source": [
        "<a href=\"https://colab.research.google.com/github/sonhn-dev/ocb_fx/blob/main/notebook/ocb_fx.ipynb\" target=\"_parent\"><img src=\"https://colab.research.google.com/assets/colab-badge.svg\" alt=\"Open In Colab\"/></a>"
      ]
    },
    {
      "cell_type": "code",
      "source": [
        "!pip install unidecode"
      ],
      "metadata": {
        "id": "VBQBUnDURCpS",
        "outputId": "0163cf79-4235-4c2e-b8e8-07fefb49e039",
        "colab": {
          "base_uri": "https://localhost:8080/"
        }
      },
      "execution_count": 1,
      "outputs": [
        {
          "output_type": "stream",
          "name": "stdout",
          "text": [
            "Collecting unidecode\n",
            "  Downloading Unidecode-1.3.2-py3-none-any.whl (235 kB)\n",
            "\u001b[?25l\r\u001b[K     |█▍                              | 10 kB 19.4 MB/s eta 0:00:01\r\u001b[K     |██▉                             | 20 kB 23.6 MB/s eta 0:00:01\r\u001b[K     |████▏                           | 30 kB 24.9 MB/s eta 0:00:01\r\u001b[K     |█████▋                          | 40 kB 19.4 MB/s eta 0:00:01\r\u001b[K     |███████                         | 51 kB 9.1 MB/s eta 0:00:01\r\u001b[K     |████████▍                       | 61 kB 10.4 MB/s eta 0:00:01\r\u001b[K     |█████████▊                      | 71 kB 9.4 MB/s eta 0:00:01\r\u001b[K     |███████████▏                    | 81 kB 10.2 MB/s eta 0:00:01\r\u001b[K     |████████████▌                   | 92 kB 8.3 MB/s eta 0:00:01\r\u001b[K     |██████████████                  | 102 kB 8.5 MB/s eta 0:00:01\r\u001b[K     |███████████████▎                | 112 kB 8.5 MB/s eta 0:00:01\r\u001b[K     |████████████████▊               | 122 kB 8.5 MB/s eta 0:00:01\r\u001b[K     |██████████████████              | 133 kB 8.5 MB/s eta 0:00:01\r\u001b[K     |███████████████████▌            | 143 kB 8.5 MB/s eta 0:00:01\r\u001b[K     |████████████████████▉           | 153 kB 8.5 MB/s eta 0:00:01\r\u001b[K     |██████████████████████▎         | 163 kB 8.5 MB/s eta 0:00:01\r\u001b[K     |███████████████████████▋        | 174 kB 8.5 MB/s eta 0:00:01\r\u001b[K     |█████████████████████████       | 184 kB 8.5 MB/s eta 0:00:01\r\u001b[K     |██████████████████████████▍     | 194 kB 8.5 MB/s eta 0:00:01\r\u001b[K     |███████████████████████████▉    | 204 kB 8.5 MB/s eta 0:00:01\r\u001b[K     |█████████████████████████████▏  | 215 kB 8.5 MB/s eta 0:00:01\r\u001b[K     |██████████████████████████████▋ | 225 kB 8.5 MB/s eta 0:00:01\r\u001b[K     |████████████████████████████████| 235 kB 8.5 MB/s eta 0:00:01\r\u001b[K     |████████████████████████████████| 235 kB 8.5 MB/s \n",
            "\u001b[?25hInstalling collected packages: unidecode\n",
            "Successfully installed unidecode-1.3.2\n"
          ]
        }
      ]
    },
    {
      "cell_type": "code",
      "metadata": {
        "id": "31SfCNhAv6bK"
      },
      "source": [
        "import numpy as np\n",
        "import pandas as pd\n",
        "from unidecode import unidecode"
      ],
      "execution_count": 1,
      "outputs": []
    },
    {
      "cell_type": "code",
      "source": [
        "!rm -r ocb_fx\n",
        "!git clone https://github.com/sonhn-dev/ocb_fx"
      ],
      "metadata": {
        "colab": {
          "base_uri": "https://localhost:8080/"
        },
        "id": "4Zu53YCLLmtR",
        "outputId": "b015ed87-1702-4f36-9079-07416b3feb33"
      },
      "execution_count": 2,
      "outputs": [
        {
          "output_type": "stream",
          "name": "stdout",
          "text": [
            "Cloning into 'ocb_fx'...\n",
            "remote: Enumerating objects: 133, done.\u001b[K\n",
            "remote: Counting objects: 100% (133/133), done.\u001b[K\n",
            "remote: Compressing objects: 100% (124/124), done.\u001b[K\n",
            "remote: Total 133 (delta 58), reused 0 (delta 0), pack-reused 0\u001b[K\n",
            "Receiving objects: 100% (133/133), 111.97 KiB | 6.22 MiB/s, done.\n",
            "Resolving deltas: 100% (58/58), done.\n"
          ]
        }
      ]
    },
    {
      "cell_type": "code",
      "source": [
        "from ocb_fx.utils import *"
      ],
      "metadata": {
        "id": "6qm5iSm0L-Hu"
      },
      "execution_count": 3,
      "outputs": []
    },
    {
      "cell_type": "code",
      "source": [
        "df = to_structured_data(load_files('ocb_fx/data'))\n",
        "df = df[~df['trader'].isna()]\n",
        "df.reset_index(drop=True, inplace=True)\n",
        "df.to_csv('data.csv')"
      ],
      "metadata": {
        "id": "S-dOUMnfMH_d",
        "outputId": "6035a412-a374-4f6d-abc3-47c32bced76d",
        "colab": {
          "base_uri": "https://localhost:8080/"
        }
      },
      "execution_count": 4,
      "outputs": [
        {
          "output_type": "stream",
          "name": "stdout",
          "text": [
            "21  file(s) read\n"
          ]
        }
      ]
    },
    {
      "cell_type": "code",
      "source": [
        "drop = ['Vietnam Bond Market Association',\n",
        "        'vbma.org.vn']\n",
        "df = df[~df['bank'].isin(drop)].reset_index(drop=True)\n",
        "df"
      ],
      "metadata": {
        "id": "aJUoJbg_PKK4",
        "outputId": "a7aea1c6-bd8b-4a4b-a262-6f46ec6cd999",
        "colab": {
          "base_uri": "https://localhost:8080/",
          "height": 476
        }
      },
      "execution_count": 5,
      "outputs": [
        {
          "output_type": "execute_result",
          "data": {
            "text/html": [
              "<div>\n",
              "<style scoped>\n",
              "    .dataframe tbody tr th:only-of-type {\n",
              "        vertical-align: middle;\n",
              "    }\n",
              "\n",
              "    .dataframe tbody tr th {\n",
              "        vertical-align: top;\n",
              "    }\n",
              "\n",
              "    .dataframe thead th {\n",
              "        text-align: right;\n",
              "    }\n",
              "</style>\n",
              "<table border=\"1\" class=\"dataframe\">\n",
              "  <thead>\n",
              "    <tr style=\"text-align: right;\">\n",
              "      <th></th>\n",
              "      <th>date</th>\n",
              "      <th>text</th>\n",
              "      <th>time</th>\n",
              "      <th>trader</th>\n",
              "      <th>bank</th>\n",
              "    </tr>\n",
              "  </thead>\n",
              "  <tbody>\n",
              "    <tr>\n",
              "      <th>0</th>\n",
              "      <td>2021-11-09</td>\n",
              "      <td>buy msb 2m</td>\n",
              "      <td>09:00:58</td>\n",
              "      <td>Do Thi Van Anh</td>\n",
              "      <td>Orient Commercial Bank</td>\n",
              "    </tr>\n",
              "    <tr>\n",
              "      <th>1</th>\n",
              "      <td>2021-11-09</td>\n",
              "      <td>sell LV ON</td>\n",
              "      <td>09:00:59</td>\n",
              "      <td>Tran Thi Hang</td>\n",
              "      <td>Ho Chi Minh Development Commercial Joint Stock...</td>\n",
              "    </tr>\n",
              "    <tr>\n",
              "      <th>2</th>\n",
              "      <td>2021-11-09</td>\n",
              "      <td>done c Hằng</td>\n",
              "      <td>09:01:04</td>\n",
              "      <td>Dat Duong Van</td>\n",
              "      <td>Lien Viet Post Joint Stock Commercial Bank</td>\n",
              "    </tr>\n",
              "    <tr>\n",
              "      <th>3</th>\n",
              "      <td>2021-11-09</td>\n",
              "      <td>50u nhé</td>\n",
              "      <td>09:01:06</td>\n",
              "      <td>Dat Duong Van</td>\n",
              "      <td>Lien Viet Post Joint Stock Commercial Bank</td>\n",
              "    </tr>\n",
              "    <tr>\n",
              "      <th>4</th>\n",
              "      <td>2021-11-09</td>\n",
              "      <td>done c VA 20u</td>\n",
              "      <td>09:01:13</td>\n",
              "      <td>Nguyen Duy Khanh</td>\n",
              "      <td>Vietnam Maritime Commercial Joint Stock Bank</td>\n",
              "    </tr>\n",
              "    <tr>\n",
              "      <th>...</th>\n",
              "      <td>...</td>\n",
              "      <td>...</td>\n",
              "      <td>...</td>\n",
              "      <td>...</td>\n",
              "      <td>...</td>\n",
              "    </tr>\n",
              "    <tr>\n",
              "      <th>3172</th>\n",
              "      <td>2021-12-09</td>\n",
              "      <td>80 luôn ko fen</td>\n",
              "      <td>14:23:04</td>\n",
              "      <td>Trinh Duc An</td>\n",
              "      <td>Sea Bank</td>\n",
              "    </tr>\n",
              "    <tr>\n",
              "      <th>3173</th>\n",
              "      <td>2021-12-09</td>\n",
              "      <td>50 vừa xinh r</td>\n",
              "      <td>14:23:11</td>\n",
              "      <td>Trung Nguyen Duy</td>\n",
              "      <td>Vietnam Prosperity JS Commercial Bank</td>\n",
              "    </tr>\n",
              "    <tr>\n",
              "      <th>3174</th>\n",
              "      <td>2021-12-09</td>\n",
              "      <td>done a An 5u thôi nhé, e tks</td>\n",
              "      <td>14:23:18</td>\n",
              "      <td>Le Lam Thinh</td>\n",
              "      <td>Orient Commercial Bank</td>\n",
              "    </tr>\n",
              "    <tr>\n",
              "      <th>3175</th>\n",
              "      <td>2021-12-09</td>\n",
              "      <td>okie</td>\n",
              "      <td>14:23:39</td>\n",
              "      <td>Trinh Duc An</td>\n",
              "      <td>Sea Bank</td>\n",
              "    </tr>\n",
              "    <tr>\n",
              "      <th>3176</th>\n",
              "      <td>2021-12-09</td>\n",
              "      <td>6m tom 1.3 1.4</td>\n",
              "      <td>14:23:43</td>\n",
              "      <td>Le Lam Thinh</td>\n",
              "      <td>Orient Commercial Bank</td>\n",
              "    </tr>\n",
              "  </tbody>\n",
              "</table>\n",
              "<p>3177 rows × 5 columns</p>\n",
              "</div>"
            ],
            "text/plain": [
              "           date  ...                                               bank\n",
              "0    2021-11-09  ...                             Orient Commercial Bank\n",
              "1    2021-11-09  ...  Ho Chi Minh Development Commercial Joint Stock...\n",
              "2    2021-11-09  ...         Lien Viet Post Joint Stock Commercial Bank\n",
              "3    2021-11-09  ...         Lien Viet Post Joint Stock Commercial Bank\n",
              "4    2021-11-09  ...       Vietnam Maritime Commercial Joint Stock Bank\n",
              "...         ...  ...                                                ...\n",
              "3172 2021-12-09  ...                                           Sea Bank\n",
              "3173 2021-12-09  ...              Vietnam Prosperity JS Commercial Bank\n",
              "3174 2021-12-09  ...                             Orient Commercial Bank\n",
              "3175 2021-12-09  ...                                           Sea Bank\n",
              "3176 2021-12-09  ...                             Orient Commercial Bank\n",
              "\n",
              "[3177 rows x 5 columns]"
            ]
          },
          "metadata": {},
          "execution_count": 5
        }
      ]
    },
    {
      "cell_type": "code",
      "source": [
        "df.to_csv('data.csv')"
      ],
      "metadata": {
        "id": "SkWU3il2PZkr"
      },
      "execution_count": 6,
      "outputs": []
    },
    {
      "cell_type": "code",
      "source": [
        ""
      ],
      "metadata": {
        "id": "Qqp4KHXWot4_"
      },
      "execution_count": null,
      "outputs": []
    }
  ]
}