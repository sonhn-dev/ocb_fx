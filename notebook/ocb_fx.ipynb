{
  "nbformat": 4,
  "nbformat_minor": 0,
  "metadata": {
    "colab": {
      "name": "Untitled0.ipynb",
      "provenance": [],
      "authorship_tag": "ABX9TyP/hD5lrQZHMGNQSRf88Y7k",
      "include_colab_link": true
    },
    "kernelspec": {
      "name": "python3",
      "display_name": "Python 3"
    },
    "language_info": {
      "name": "python"
    }
  },
  "cells": [
    {
      "cell_type": "markdown",
      "metadata": {
        "id": "view-in-github",
        "colab_type": "text"
      },
      "source": [
        "<a href=\"https://colab.research.google.com/github/sonhn-dev/ocb_fx/blob/main/notebook/ocb_fx.ipynb\" target=\"_parent\"><img src=\"https://colab.research.google.com/assets/colab-badge.svg\" alt=\"Open In Colab\"/></a>"
      ]
    },
    {
      "cell_type": "code",
      "source": [
        "!pip install unidecode"
      ],
      "metadata": {
        "id": "VBQBUnDURCpS",
        "outputId": "278106a1-b7cc-4c69-b12e-2ade7c11d438",
        "colab": {
          "base_uri": "https://localhost:8080/"
        }
      },
      "execution_count": 20,
      "outputs": [
        {
          "output_type": "stream",
          "name": "stdout",
          "text": [
            "Collecting unidecode\n",
            "  Downloading Unidecode-1.3.2-py3-none-any.whl (235 kB)\n",
            "\u001b[K     |████████████████████████████████| 235 kB 4.2 MB/s \n",
            "\u001b[?25hInstalling collected packages: unidecode\n",
            "Successfully installed unidecode-1.3.2\n"
          ]
        }
      ]
    },
    {
      "cell_type": "code",
      "metadata": {
        "id": "31SfCNhAv6bK"
      },
      "source": [
        "import numpy as np\n",
        "import pandas as pd\n",
        "from unidecode import unidecode"
      ],
      "execution_count": 21,
      "outputs": []
    },
    {
      "cell_type": "code",
      "source": [
        "!git clone https://github.com/sonhn-dev/ocb_fx"
      ],
      "metadata": {
        "colab": {
          "base_uri": "https://localhost:8080/"
        },
        "id": "4Zu53YCLLmtR",
        "outputId": "94011992-d6f4-4fa0-e8f8-62f6fb190d3f"
      },
      "execution_count": 2,
      "outputs": [
        {
          "output_type": "stream",
          "name": "stdout",
          "text": [
            "Cloning into 'ocb_fx'...\n",
            "remote: Enumerating objects: 90, done.\u001b[K\n",
            "remote: Counting objects: 100% (90/90), done.\u001b[K\n",
            "remote: Compressing objects: 100% (82/82), done.\u001b[K\n",
            "remote: Total 90 (delta 37), reused 0 (delta 0), pack-reused 0\u001b[K\n",
            "Unpacking objects: 100% (90/90), done.\n"
          ]
        }
      ]
    },
    {
      "cell_type": "code",
      "source": [
        "from ocb_fx.utils import *"
      ],
      "metadata": {
        "id": "6qm5iSm0L-Hu"
      },
      "execution_count": 4,
      "outputs": []
    },
    {
      "cell_type": "code",
      "source": [
        "df = to_structured_data(load_files('ocb_fx/data'))\n",
        "df.to_csv('data.csv')"
      ],
      "metadata": {
        "id": "S-dOUMnfMH_d"
      },
      "execution_count": null,
      "outputs": []
    },
    {
      "cell_type": "code",
      "source": [
        "df = pd.read_csv('data.csv', index_col=0)\n",
        "df.head()"
      ],
      "metadata": {
        "id": "sSzYGIezO7of",
        "outputId": "14f90666-2871-4a5c-e210-d15adce028fd",
        "colab": {
          "base_uri": "https://localhost:8080/",
          "height": 276
        }
      },
      "execution_count": 18,
      "outputs": [
        {
          "output_type": "execute_result",
          "data": {
            "text/html": [
              "<div>\n",
              "<style scoped>\n",
              "    .dataframe tbody tr th:only-of-type {\n",
              "        vertical-align: middle;\n",
              "    }\n",
              "\n",
              "    .dataframe tbody tr th {\n",
              "        vertical-align: top;\n",
              "    }\n",
              "\n",
              "    .dataframe thead th {\n",
              "        text-align: right;\n",
              "    }\n",
              "</style>\n",
              "<table border=\"1\" class=\"dataframe\">\n",
              "  <thead>\n",
              "    <tr style=\"text-align: right;\">\n",
              "      <th></th>\n",
              "      <th>date</th>\n",
              "      <th>trader</th>\n",
              "      <th>bank</th>\n",
              "      <th>time</th>\n",
              "      <th>text</th>\n",
              "    </tr>\n",
              "  </thead>\n",
              "  <tbody>\n",
              "    <tr>\n",
              "      <th>0</th>\n",
              "      <td>2021-11-12</td>\n",
              "      <td>Tran Hong Quan</td>\n",
              "      <td>Vietnam Bond Market Association</td>\n",
              "      <td>09:00:06</td>\n",
              "      <td>Good morning anh/chị. VBMA xin gửi swap date t...</td>\n",
              "    </tr>\n",
              "    <tr>\n",
              "      <th>1</th>\n",
              "      <td>2021-11-12</td>\n",
              "      <td>Vu Ha Tuan</td>\n",
              "      <td>Vietnam International Bank</td>\n",
              "      <td>09:00:17</td>\n",
              "      <td>sell VPB ON nhé</td>\n",
              "    </tr>\n",
              "    <tr>\n",
              "      <th>2</th>\n",
              "      <td>2021-11-12</td>\n",
              "      <td>Trung Nguyen Duy</td>\n",
              "      <td>Vietnam Prosperity JS Commercial Bank</td>\n",
              "      <td>09:00:23</td>\n",
              "      <td>done a vũ</td>\n",
              "    </tr>\n",
              "    <tr>\n",
              "      <th>3</th>\n",
              "      <td>2021-11-12</td>\n",
              "      <td>Kien Nguyen Khac</td>\n",
              "      <td>Asia Commercial Bank</td>\n",
              "      <td>09:00:26</td>\n",
              "      <td>sell VP ON</td>\n",
              "    </tr>\n",
              "    <tr>\n",
              "      <th>4</th>\n",
              "      <td>2021-11-12</td>\n",
              "      <td>Nguyen Ngoc Ha</td>\n",
              "      <td>Vietnam Technological Commercial Joint Stock Bank</td>\n",
              "      <td>09:00:26</td>\n",
              "      <td>offer 1m 0.78</td>\n",
              "    </tr>\n",
              "  </tbody>\n",
              "</table>\n",
              "</div>"
            ],
            "text/plain": [
              "         date  ...                                               text\n",
              "0  2021-11-12  ...  Good morning anh/chị. VBMA xin gửi swap date t...\n",
              "1  2021-11-12  ...                                    sell VPB ON nhé\n",
              "2  2021-11-12  ...                                          done a vũ\n",
              "3  2021-11-12  ...                                         sell VP ON\n",
              "4  2021-11-12  ...                                      offer 1m 0.78\n",
              "\n",
              "[5 rows x 5 columns]"
            ]
          },
          "metadata": {},
          "execution_count": 18
        }
      ]
    },
    {
      "cell_type": "code",
      "source": [
        "drop = ['Vietnam Bond Market Association',\n",
        "        'vbma.org.vn']\n",
        "df = df[~df['bank'].isin(drop)].reset_index(drop=True)\n",
        "df"
      ],
      "metadata": {
        "id": "aJUoJbg_PKK4",
        "outputId": "c607dea7-e1e7-4538-988d-f8add11fed23",
        "colab": {
          "base_uri": "https://localhost:8080/",
          "height": 424
        }
      },
      "execution_count": 19,
      "outputs": [
        {
          "output_type": "execute_result",
          "data": {
            "text/html": [
              "<div>\n",
              "<style scoped>\n",
              "    .dataframe tbody tr th:only-of-type {\n",
              "        vertical-align: middle;\n",
              "    }\n",
              "\n",
              "    .dataframe tbody tr th {\n",
              "        vertical-align: top;\n",
              "    }\n",
              "\n",
              "    .dataframe thead th {\n",
              "        text-align: right;\n",
              "    }\n",
              "</style>\n",
              "<table border=\"1\" class=\"dataframe\">\n",
              "  <thead>\n",
              "    <tr style=\"text-align: right;\">\n",
              "      <th></th>\n",
              "      <th>date</th>\n",
              "      <th>trader</th>\n",
              "      <th>bank</th>\n",
              "      <th>time</th>\n",
              "      <th>text</th>\n",
              "    </tr>\n",
              "  </thead>\n",
              "  <tbody>\n",
              "    <tr>\n",
              "      <th>0</th>\n",
              "      <td>2021-11-12</td>\n",
              "      <td>Vu Ha Tuan</td>\n",
              "      <td>Vietnam International Bank</td>\n",
              "      <td>09:00:17</td>\n",
              "      <td>sell VPB ON nhé</td>\n",
              "    </tr>\n",
              "    <tr>\n",
              "      <th>1</th>\n",
              "      <td>2021-11-12</td>\n",
              "      <td>Trung Nguyen Duy</td>\n",
              "      <td>Vietnam Prosperity JS Commercial Bank</td>\n",
              "      <td>09:00:23</td>\n",
              "      <td>done a vũ</td>\n",
              "    </tr>\n",
              "    <tr>\n",
              "      <th>2</th>\n",
              "      <td>2021-11-12</td>\n",
              "      <td>Kien Nguyen Khac</td>\n",
              "      <td>Asia Commercial Bank</td>\n",
              "      <td>09:00:26</td>\n",
              "      <td>sell VP ON</td>\n",
              "    </tr>\n",
              "    <tr>\n",
              "      <th>3</th>\n",
              "      <td>2021-11-12</td>\n",
              "      <td>Nguyen Ngoc Ha</td>\n",
              "      <td>Vietnam Technological Commercial Joint Stock Bank</td>\n",
              "      <td>09:00:26</td>\n",
              "      <td>offer 1m 0.78</td>\n",
              "    </tr>\n",
              "    <tr>\n",
              "      <th>4</th>\n",
              "      <td>2021-11-12</td>\n",
              "      <td>Vu Ha Tuan</td>\n",
              "      <td>Vietnam International Bank</td>\n",
              "      <td>09:00:27</td>\n",
              "      <td>50u nhé</td>\n",
              "    </tr>\n",
              "    <tr>\n",
              "      <th>...</th>\n",
              "      <td>...</td>\n",
              "      <td>...</td>\n",
              "      <td>...</td>\n",
              "      <td>...</td>\n",
              "      <td>...</td>\n",
              "    </tr>\n",
              "    <tr>\n",
              "      <th>907</th>\n",
              "      <td>2021-11-19</td>\n",
              "      <td>Thao Pham Thi Ngoc</td>\n",
              "      <td>Vietnam Technological Commercial Joint Stock Bank</td>\n",
              "      <td>14:10:01</td>\n",
              "      <td>chị quote tod đó QA ơi</td>\n",
              "    </tr>\n",
              "    <tr>\n",
              "      <th>908</th>\n",
              "      <td>2021-11-19</td>\n",
              "      <td>Do Quoc Anh</td>\n",
              "      <td>Lien Viet Post Joint Stock Commercial Bank</td>\n",
              "      <td>14:10:08</td>\n",
              "      <td>éc. dạ vậy nothing chị</td>\n",
              "    </tr>\n",
              "    <tr>\n",
              "      <th>909</th>\n",
              "      <td>2021-11-19</td>\n",
              "      <td>Thao Pham Thi Ngoc</td>\n",
              "      <td>Vietnam Technological Commercial Joint Stock Bank</td>\n",
              "      <td>14:10:21</td>\n",
              "      <td>ok e nothing nhé</td>\n",
              "    </tr>\n",
              "    <tr>\n",
              "      <th>910</th>\n",
              "      <td>2021-11-19</td>\n",
              "      <td>Dat Le Tat</td>\n",
              "      <td>SouthEast Asia Commercial Joint Stock Bank</td>\n",
              "      <td>14:11:05</td>\n",
              "      <td>done Quốc Anh nhé</td>\n",
              "    </tr>\n",
              "    <tr>\n",
              "      <th>911</th>\n",
              "      <td>2021-11-19</td>\n",
              "      <td>Do Quoc Anh</td>\n",
              "      <td>Lien Viet Post Joint Stock Commercial Bank</td>\n",
              "      <td>14:11:18</td>\n",
              "      <td>vâng a</td>\n",
              "    </tr>\n",
              "  </tbody>\n",
              "</table>\n",
              "<p>912 rows × 5 columns</p>\n",
              "</div>"
            ],
            "text/plain": [
              "           date              trader  ...      time                    text\n",
              "0    2021-11-12          Vu Ha Tuan  ...  09:00:17         sell VPB ON nhé\n",
              "1    2021-11-12    Trung Nguyen Duy  ...  09:00:23               done a vũ\n",
              "2    2021-11-12    Kien Nguyen Khac  ...  09:00:26              sell VP ON\n",
              "3    2021-11-12      Nguyen Ngoc Ha  ...  09:00:26           offer 1m 0.78\n",
              "4    2021-11-12          Vu Ha Tuan  ...  09:00:27                50u nhé \n",
              "..          ...                 ...  ...       ...                     ...\n",
              "907  2021-11-19  Thao Pham Thi Ngoc  ...  14:10:01  chị quote tod đó QA ơi\n",
              "908  2021-11-19         Do Quoc Anh  ...  14:10:08  éc. dạ vậy nothing chị\n",
              "909  2021-11-19  Thao Pham Thi Ngoc  ...  14:10:21        ok e nothing nhé\n",
              "910  2021-11-19          Dat Le Tat  ...  14:11:05      done Quốc Anh nhé \n",
              "911  2021-11-19         Do Quoc Anh  ...  14:11:18                  vâng a\n",
              "\n",
              "[912 rows x 5 columns]"
            ]
          },
          "metadata": {},
          "execution_count": 19
        }
      ]
    },
    {
      "cell_type": "code",
      "source": [
        "text = df['text'].str.strip().str.lower().apply(lambda s: unidecode(s))\n",
        "text"
      ],
      "metadata": {
        "id": "SkWU3il2PZkr",
        "outputId": "ac7b4891-4985-4e93-dd41-80638c32f34b",
        "colab": {
          "base_uri": "https://localhost:8080/"
        }
      },
      "execution_count": 24,
      "outputs": [
        {
          "output_type": "execute_result",
          "data": {
            "text/plain": [
              "0             sell vpb on nhe\n",
              "1                   done a vu\n",
              "2                  sell vp on\n",
              "3               offer 1m 0.78\n",
              "4                     50u nhe\n",
              "                ...          \n",
              "907    chi quote tod do qa oi\n",
              "908    ec. da vay nothing chi\n",
              "909          ok e nothing nhe\n",
              "910         done quoc anh nhe\n",
              "911                    vang a\n",
              "Name: text, Length: 912, dtype: object"
            ]
          },
          "metadata": {},
          "execution_count": 24
        }
      ]
    },
    {
      "cell_type": "code",
      "source": [
        ""
      ],
      "metadata": {
        "id": "Qqp4KHXWot4_"
      },
      "execution_count": null,
      "outputs": []
    }
  ]
}